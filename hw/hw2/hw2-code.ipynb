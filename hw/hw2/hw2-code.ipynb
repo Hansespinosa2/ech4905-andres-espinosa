{
 "cells": [
  {
   "cell_type": "markdown",
   "metadata": {},
   "source": [
    "# Homework 2"
   ]
  },
  {
   "cell_type": "markdown",
   "metadata": {},
   "source": [
    "## Problem 3"
   ]
  },
  {
   "cell_type": "code",
   "execution_count": 58,
   "metadata": {},
   "outputs": [
    {
     "data": {
      "text/plain": [
       "59440.714291133234"
      ]
     },
     "execution_count": 58,
     "metadata": {},
     "output_type": "execute_result"
    }
   ],
   "source": [
    "import cvxpy as cp\n",
    "import numpy as np\n",
    "\n",
    "### Parameters\n",
    "n_P = 7 # number of products\n",
    "n_M = 4 # number of months\n",
    "n_K = 5 # number of machines\n",
    "\n",
    "\n",
    "c = np.array([10, 6, 8, 4, 11, 9, 3]) # selling price of product i\n",
    "A = np.array([\n",
    "    [0.5, 0.7, 0, 0, 0.3, 0.2, 0.5],\n",
    "    [0.1, 0.2, 0, 0.3, 0, 0.6, 0],\n",
    "    [0.2, 0, 0.8, 0, 0, 0, 0.6],\n",
    "    [0.05, 0.03, 0, 0.07, 0.1, 0, 0.08],\n",
    "    [0, 0, 0.01, 0, 0.05, 0, 0.05]\n",
    "]) # machine constraint matrix\n",
    "\n",
    "D = np.array(\n",
    "    [500, 1000, 300, 300, 800, 200, 100] * n_M\n",
    ").reshape(n_P, n_M)\n",
    "D = np.c_[np.zeros(n_P), D] # demand constraint matrix\n",
    "\n",
    "v = 100 # max amount of product i inventory in a month m (is constant)\n",
    "l = 0.5 # cost of holding a unit to the next month\n",
    "u = 384 # max amount of hours for a machine\n",
    "\n",
    "### Variables\n",
    "P = cp.Variable((n_P, n_M),name=\"P\")\n",
    "P = cp.hstack([np.zeros((n_P, 1)), P[:,:]]) \n",
    "S = cp.Variable((n_P, n_M),name=\"S\")\n",
    "S = cp.hstack([np.zeros((n_P, 1)), S[:,:]]) \n",
    "X = cp.Variable((n_P, n_M),name=\"X\")\n",
    "X = cp.hstack([np.zeros((n_P, 1)), X[:,:]]) \n",
    "X_prev = cp.hstack([np.zeros((n_P, 1)), X[:, 1:]])\n",
    "\n",
    "### Objective Function\n",
    "obj = cp.Maximize(cp.sum(c.T @ S) - cp.sum(l* X))\n",
    "\n",
    "### Constraints\n",
    "constraints = [\n",
    "    A @ P <= u * np.ones((n_K,n_M+1)),\n",
    "    S <= D,\n",
    "    X <= v * np.ones((n_P, n_M+1)),\n",
    "    X == P - S + X_prev,\n",
    "    X >= 0,\n",
    "    P >= 0,\n",
    "    S >= 0,\n",
    "    X_prev >= 0\n",
    "]\n",
    "\n",
    "### Problem\n",
    "prob = cp.Problem(obj, constraints)\n",
    "\n",
    "prob.solve()"
   ]
  },
  {
   "cell_type": "code",
   "execution_count": null,
   "metadata": {},
   "outputs": [],
   "source": []
  },
  {
   "cell_type": "code",
   "execution_count": null,
   "metadata": {},
   "outputs": [
    {
     "name": "stdout",
     "output_type": "stream",
     "text": [
      "S = \n",
      " [[500.   388.   141.43 300.  ]\n",
      " [ 34.29   0.     0.   162.86]\n",
      " [355.   300.   300.   405.  ]\n",
      " [200.   100.   500.   471.43]\n",
      " [300.   300.   800.   200.  ]\n",
      " [100.   500.   366.43 300.  ]\n",
      " [  0.     0.     0.     0.  ]] \n",
      "\n",
      "X = \n",
      " [[0. 0. 0. 0.]\n",
      " [0. 0. 0. 0.]\n",
      " [0. 0. 0. 0.]\n",
      " [0. 0. 0. 0.]\n",
      " [0. 0. 0. 0.]\n",
      " [0. 0. 0. 0.]\n",
      " [0. 0. 0. 0.]] \n",
      "\n",
      "P = \n",
      " [[500.   388.   141.43 300.  ]\n",
      " [ 34.29   0.     0.   162.86]\n",
      " [355.   300.   300.   405.  ]\n",
      " [200.   100.   500.   471.43]\n",
      " [300.   300.   800.   200.  ]\n",
      " [100.   500.   366.43 300.  ]\n",
      " [  0.     0.     0.     0.  ]] \n",
      "\n"
     ]
    }
   ],
   "source": [
    "for var in prob.variables():\n",
    "    print(f\"{var.name()} = \\n {np.abs(np.round(var.value, 2))} \\n\")"
   ]
  },
  {
   "cell_type": "code",
   "execution_count": null,
   "metadata": {},
   "outputs": [],
   "source": []
  }
 ],
 "metadata": {
  "kernelspec": {
   "display_name": "3.10.4",
   "language": "python",
   "name": "python3"
  },
  "language_info": {
   "codemirror_mode": {
    "name": "ipython",
    "version": 3
   },
   "file_extension": ".py",
   "mimetype": "text/x-python",
   "name": "python",
   "nbconvert_exporter": "python",
   "pygments_lexer": "ipython3",
   "version": "3.10.4"
  }
 },
 "nbformat": 4,
 "nbformat_minor": 2
}

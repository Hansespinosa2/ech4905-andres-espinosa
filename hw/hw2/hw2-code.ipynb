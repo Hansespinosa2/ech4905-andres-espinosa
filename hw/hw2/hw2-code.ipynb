{
 "cells": [
  {
   "cell_type": "markdown",
   "metadata": {},
   "source": [
    "# Homework 2"
   ]
  },
  {
   "cell_type": "markdown",
   "metadata": {},
   "source": [
    "## Problem 3"
   ]
  },
  {
   "cell_type": "code",
   "execution_count": 86,
   "metadata": {},
   "outputs": [
    {
     "data": {
      "text/plain": [
       "58885.52385535276"
      ]
     },
     "execution_count": 86,
     "metadata": {},
     "output_type": "execute_result"
    }
   ],
   "source": [
    "import cvxpy as cp\n",
    "import numpy as np\n",
    "\n",
    "### Parameters\n",
    "n_P = 7 # number of products\n",
    "n_M = 4 # number of months\n",
    "n_K = 5 # number of machines\n",
    "\n",
    "\n",
    "c = np.array([10, 6, 8, 4, 11, 9, 3]) # selling price of product i\n",
    "A = np.array([\n",
    "    [0.5, 0.7, 0, 0, 0.3, 0.2, 0.5],\n",
    "    [0.1, 0.2, 0, 0.3, 0, 0.6, 0],\n",
    "    [0.2, 0, 0.8, 0, 0, 0, 0.6],\n",
    "    [0.05, 0.03, 0, 0.07, 0.1, 0, 0.08],\n",
    "    [0, 0, 0.01, 0, 0.05, 0, 0.05]\n",
    "]) # machine constraint matrix\n",
    "\n",
    "D = np.array(\n",
    "    [500, 1000, 300, 300, 800, 200, 100] * n_M\n",
    ").reshape(n_P, n_M)\n",
    "D = np.c_[np.zeros(n_P), D] # demand constraint matrix\n",
    "\n",
    "v = 100 # max amount of product i inventory in a month m (is constant)\n",
    "l = 0.5 # cost of holding a unit to the next month\n",
    "u = 384 # max amount of hours for a machine\n",
    "\n",
    "### Variables\n",
    "P = cp.Variable((n_P, n_M+1),name=\"P\")\n",
    "S = cp.Variable((n_P, n_M+1),name=\"S\")\n",
    "X = cp.Variable((n_P, n_M+1),name=\"X\")\n",
    "X_prev = cp.hstack([np.zeros((n_P, 2)), X[:, 1:-1]])\n",
    "\n",
    "### Objective Function\n",
    "obj = cp.Maximize(cp.sum(c.T @ S) - cp.sum(l* X))\n",
    "\n",
    "### Constraints\n",
    "constraints = [\n",
    "    A @ P <= u * np.ones((n_K,n_M+1)),\n",
    "    S <= D,\n",
    "    X <= v * np.ones((n_P, n_M+1)),\n",
    "    X == P - S + X_prev,\n",
    "    X >= 0,\n",
    "    P >= 0,\n",
    "    S >= 0,\n",
    "    X_prev >= 0,\n",
    "    X[:,0] == 0,\n",
    "    X[:,-1] == 50,\n",
    "    P[:,0] == 0,\n",
    "    S[:,0] == 0\n",
    "]\n",
    "\n",
    "### Problem\n",
    "prob = cp.Problem(obj, constraints)\n",
    "\n",
    "prob.solve()"
   ]
  },
  {
   "cell_type": "code",
   "execution_count": 87,
   "metadata": {},
   "outputs": [
    {
     "name": "stdout",
     "output_type": "stream",
     "text": [
      "S = \n",
      " [[  0.   448.   448.   141.43 300.  ]\n",
      " [  0.     0.     0.     0.     5.71]\n",
      " [  0.   368.   300.   300.   405.  ]\n",
      " [  0.   200.   100.   500.   476.19]\n",
      " [  0.   300.   300.   800.   200.  ]\n",
      " [  0.   100.   500.   466.43 300.  ]\n",
      " [  0.     0.     0.     0.     0.  ]] \n",
      "\n",
      "X = \n",
      " [[  0.     0.     0.     0.    50.  ]\n",
      " [  0.     0.     0.     0.    50.  ]\n",
      " [  0.     0.     0.   100.    50.  ]\n",
      " [  0.    69.33 100.   100.    50.  ]\n",
      " [  0.   100.     0.     0.    50.  ]\n",
      " [  0.   100.   100.     0.    50.  ]\n",
      " [  0.     0.     0.     0.    50.  ]] \n",
      "\n",
      "P = \n",
      " [[  0.   448.   448.   141.43 350.  ]\n",
      " [  0.     0.     0.     0.    55.71]\n",
      " [  0.   368.   300.   400.   355.  ]\n",
      " [  0.   269.33 130.67 500.   426.19]\n",
      " [  0.   400.   200.   800.   250.  ]\n",
      " [  0.   200.   500.   366.43 350.  ]\n",
      " [  0.     0.     0.     0.    50.  ]] \n",
      "\n"
     ]
    }
   ],
   "source": [
    "for var in prob.variables():\n",
    "    print(f\"{var.name()} = \\n {np.abs(np.round(var.value, 2))} \\n\")"
   ]
  },
  {
   "cell_type": "code",
   "execution_count": null,
   "metadata": {},
   "outputs": [],
   "source": []
  }
 ],
 "metadata": {
  "kernelspec": {
   "display_name": "3.10.4",
   "language": "python",
   "name": "python3"
  },
  "language_info": {
   "codemirror_mode": {
    "name": "ipython",
    "version": 3
   },
   "file_extension": ".py",
   "mimetype": "text/x-python",
   "name": "python",
   "nbconvert_exporter": "python",
   "pygments_lexer": "ipython3",
   "version": "3.10.4"
  }
 },
 "nbformat": 4,
 "nbformat_minor": 2
}
